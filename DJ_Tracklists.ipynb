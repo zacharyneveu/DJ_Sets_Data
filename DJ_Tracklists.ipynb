{
 "cells": [
  {
   "cell_type": "markdown",
   "metadata": {},
   "source": [
    "DJ Tracklists Scraper\n",
    "======================="
   ]
  },
  {
   "cell_type": "markdown",
   "metadata": {},
   "source": [
    "Get Webpage(s)"
   ]
  },
  {
   "cell_type": "code",
   "execution_count": null,
   "metadata": {},
   "outputs": [],
   "source": [
    "from bs4 import BeautifulSoup as bs\n",
    "import requests \n",
    "import pandas as pd\n",
    "import urllib3\n",
    "import os\n",
    "import spotipy\n",
    "import spotipy.util as util\n",
    "from pprint import pprint\n",
    "urllib3.disable_warnings(urllib3.exceptions.InsecureRequestWarning)"
   ]
  },
  {
   "cell_type": "markdown",
   "metadata": {},
   "source": [
    "Extract data \n",
    "<b>TODO: </b>Find a way to bypass cookie problems..."
   ]
  },
  {
   "cell_type": "code",
   "execution_count": null,
   "metadata": {},
   "outputs": [],
   "source": [
    "def get_tracklist(url, folder='.'):\n",
    "    os.makedirs(folder, exist_ok=True)\n",
    "    page = requests.get(url, verify=False)\n",
    "    soup = bs(page.content, \"lxml\")\n",
    "    \n",
    "    tracklist = pd.DataFrame(columns=['Artist(s)', 'Title', 'Release'])\n",
    "    set_name = soup.select('.set')[0].get_text()\n",
    "    for div in soup.find_all('td'):\n",
    "        try:\n",
    "            artists_raw = div.select('.artist')\n",
    "            artists = str()\n",
    "            if(len(artists_raw) == 0):\n",
    "                continue\n",
    "            for artist in artists_raw:\n",
    "                text = artist.get_text()\n",
    "                artists+=f'{text} '\n",
    "            # get rid of space at the end    \n",
    "            artists = artists.strip()\n",
    "\n",
    "            title = div.select('.track')[0].get_text()\n",
    "            release = div.select('.release')[0].get_text()\n",
    "\n",
    "            basic_details = pd.Series([artists, title, release], index=['Artist(s)', 'Title', 'Release'])\n",
    "            main_artist = artists_raw[0].get_text()\n",
    "            spotify_details = get_attrs(artist=main_artist+' '+release, track=title)\n",
    "            # Try removing version if not found\n",
    "            if spotify_details is False:\n",
    "                spotify_details = get_attrs(artist=main_artist, track=title)\n",
    "            # Set details to none instead of false if not found, so track won't get excluded\n",
    "            if spotify_details is False:\n",
    "                spotify_details = None\n",
    "                print(f'Not Found: {title} by {artists}')\n",
    "            row = pd.concat([basic_details, spotify_details])\n",
    "            tracklist = tracklist.append(row, ignore_index=True)\n",
    "        except Exception as e:\n",
    "            print(e)\n",
    "            pass\n",
    "    tracklist.to_csv(f'{folder}/{set_name}.csv')\n",
    "    \n",
    "# get_tracklist(url='https://www.djtracklists.com/tracklists/view/future_sound_of_egypt_013/', folder='/tmp')"
   ]
  },
  {
   "cell_type": "code",
   "execution_count": null,
   "metadata": {},
   "outputs": [],
   "source": [
    "client_id='6389b29d73fc4806ba5e812e678854c1'\n",
    "client_secret='0b4bcd832e694aedad408b5b4a93dd5c'\n",
    "ccm=util.oauth2.SpotifyClientCredentials(client_id=client_id, client_secret=client_secret)\n",
    "sp =spotipy.Spotify(client_credentials_manager=ccm)\n",
    "\n",
    "def get_attrs(artist, track):\n",
    "    try:\n",
    "        res = sp.search(q='artist:'+artist+' track:'+track, type=\"track\")\n",
    "        track_res = res['tracks']['items'][0]\n",
    "        track_id = track_res['uri']\n",
    "        deets = sp.audio_features(track_id)\n",
    "        return pd.Series(deets[0])\n",
    "    except Exception as e:\n",
    "        return False\n",
    "    \n",
    "#get_attrs(artist='Armin Van Buuren', track=\"shivers\")"
   ]
  },
  {
   "cell_type": "markdown",
   "metadata": {},
   "source": [
    "TODO\n",
    "----\n",
    "+ Convert key signatures to camelot for ml algorithm to use\n",
    "+ ![Spotify pitch to regular key](./pitch-class-to-key.png)"
   ]
  },
  {
   "cell_type": "code",
   "execution_count": null,
   "metadata": {},
   "outputs": [],
   "source": [
    "def get_camelot(key, mode):\n",
    "    # index of letter is spotify pitch class - e.g. 0->c, 1->c# etc.\n",
    "    tones = [ 'c', 'c#', 'd', 'd#', 'e', 'f', 'f#', 'g', 'g#', 'a', 'a#', 'b' ]\n",
    "    keys = {\n",
    "        'a0': '8A',\n",
    "        'a1': '11B',\n",
    "        'a#0': '3A',\n",
    "        'a#1': '6B',\n",
    "        'b0': '10A',\n",
    "        'b1': '1B',\n",
    "        'c0': '5A',\n",
    "        'c1': '8B',\n",
    "        'c#0': '12A',\n",
    "        'c#1': '3B',\n",
    "        'd0': '7A',\n",
    "        'd1': '10B',\n",
    "        'd#0': '2A',\n",
    "        'd#1': '5B',\n",
    "        'e0': '9A',\n",
    "        'e1': '12B',\n",
    "        'f0': '4A',\n",
    "        'f1': '7B',\n",
    "        'f#0': '11A',\n",
    "        'f#1': '2B',\n",
    "        'g0': '6A',\n",
    "        'g1': '9B',\n",
    "        'g#0': '1A',\n",
    "        'g#1': '4B',\n",
    "    }\n",
    "    key_letter = tones[key]\n",
    "    return keys[key_letter+str(mode)]"
   ]
  },
  {
   "cell_type": "code",
   "execution_count": null,
   "metadata": {},
   "outputs": [],
   "source": [
    "def get_series_tracklists(series_url, folder='.', recursecall=False):\n",
    "    page = requests.get(series_url, verify=False)\n",
    "    soup = bs(page.content, \"lxml\")\n",
    "    for mix_link in soup.find_all('a', class_='mix'):\n",
    "        mix_href = mix_link['href']\n",
    "        print(mix_link['href'])\n",
    "        get_tracklist(mix_link['href'], folder=folder)\n",
    "        \n",
    "    if recursecall == False:\n",
    "        page_div = soup.find('div', class_='pagination')\n",
    "        other_pages = page_div.find_all('a', class_='pagenumber', href=True)\n",
    "        for page in other_pages:\n",
    "            if page.get_text() != 'Next »»':\n",
    "                print(page['href'])\n",
    "                get_series_tracklists(page['href'], folder=folder, recursecall=True)\n",
    "        \n",
    "series_urls = { \"accelerate\": 'https://www.djtracklists.com/series/accelerate_session/',\n",
    "               \"always_alive\": 'https://www.djtracklists.com/series/always_alive/',\n",
    "               \"anjunabeats\": 'https://www.djtracklists.com/series/anjunabeats_worldwide/',\n",
    "               \"point_blank\": 'https://www.djtracklists.com/series/blank_point/',\n",
    "               \"ASOT\": 'https://www.djtracklists.com/series/a_state_of_trance/',\n",
    "               \"brija_dot_com\": 'https://www.djtracklists.com/series/brija_dot_com_sessions/',\n",
    "               \"captured_radio\": 'https://www.djtracklists.com/series/captured_radio/',\n",
    "               \"club_elite_sessions\": 'https://www.djtracklists.com/series/club_elite_sessions/',\n",
    "               \"corstens_countdown\": 'https://www.djtracklists.com/series/corstens_countdown/',\n",
    "               \"essential_mix\": 'https://www.djtracklists.com/series/essential_mix/',\n",
    "               \"FSOE\": 'https://www.djtracklists.com/series/future_sound_of_egypt/',\n",
    "               \"GDJB\": 'https://www.djtracklists.com/series/global_dj_broadcast/',\n",
    "               \"jaytech_music\": 'https://www.djtracklists.com/series/jaytech_music/',\n",
    "               \"magic_island\": 'https://www.djtracklists.com/series/magic_island-music_for_balearic_people/',\n",
    "               \"TATW\": 'https://www.djtracklists.com/series/trance_around_the_world/',\n",
    "               \"Transitions\": 'https://www.djtracklists.com/series/transitions/'\n",
    "              }\n",
    "               \n",
    "for key in series_urls.keys():\n",
    "    get_series_tracklists(series_urls[key], folder=key)"
   ]
  }
 ],
 "metadata": {
  "kernelspec": {
   "display_name": "Python 3",
   "language": "python",
   "name": "python3"
  },
  "language_info": {
   "codemirror_mode": {
    "name": "ipython",
    "version": 3
   },
   "file_extension": ".py",
   "mimetype": "text/x-python",
   "name": "python",
   "nbconvert_exporter": "python",
   "pygments_lexer": "ipython3",
   "version": "3.6.5"
  }
 },
 "nbformat": 4,
 "nbformat_minor": 2
}
