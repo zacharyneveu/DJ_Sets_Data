{
 "cells": [
  {
   "cell_type": "markdown",
   "metadata": {},
   "source": [
    "Prepare data for learning\n",
    "=========================\n",
    "Accumulate more features, concatenate data etc."
   ]
  },
  {
   "cell_type": "code",
   "execution_count": 2,
   "metadata": {},
   "outputs": [],
   "source": [
    "import pandas as pd\n",
    "import os\n",
    "from ipywidgets import FloatProgress\n",
    "from IPython.display import display"
   ]
  },
  {
   "cell_type": "code",
   "execution_count": null,
   "metadata": {},
   "outputs": [],
   "source": [
    "dfs = dict()\n",
    "for subdir, dirs, files in os.walk('.'):\n",
    "    for file in files:\n",
    "        if file.endswith('.csv') and file != 'all_sets.csv':\n",
    "            new_df = pd.read_csv(os.path.join(subdir, file), index_col=0)\n",
    "            new_df = new_df.loc[:, ~new_df.columns.str.contains('^Unnamed')]\n",
    "            dfs[file] = new_df\n",
    "            #print(file)\n",
    "\n",
    "all_data = pd.concat(dfs.values(), sort=False, axis=0, keys=dfs.keys())\n",
    "all_data.to_csv('all_sets.csv')\n",
    "all_data.head(100)"
   ]
  },
  {
   "cell_type": "code",
   "execution_count": null,
   "metadata": {},
   "outputs": [],
   "source": [
    "all_data.id.value_counts()"
   ]
  },
  {
   "cell_type": "code",
   "execution_count": null,
   "metadata": {},
   "outputs": [],
   "source": [
    "no_unknowns = all_data[all_data['id'] != '1GfuUJQxZr1pOuFxpyR5yC']\n",
    "print(no_unknowns.shape)\n",
    "all_data.shape"
   ]
  },
  {
   "cell_type": "code",
   "execution_count": 7,
   "metadata": {},
   "outputs": [],
   "source": [
    "train_text = str()\n",
    "valid_text = str()\n",
    "all_data = pd.read_csv('all_sets.csv')\n",
    "for index, row in all_data.iterrows():\n",
    "    if(index < all_data.shape[0] * 0.8):\n",
    "        train_text += ' '\n",
    "        train_text += str(row['id'])\n",
    "    else:\n",
    "        valid_text += ' '\n",
    "        valid_text += str(row['id'])\n",
    "\n",
    "with open('train_text.txt', 'w+') as f:\n",
    "    f.write(train_text)\n",
    "with open('valid_text.txt', 'w+') as f:\n",
    "    f.write(valid_text)"
   ]
  }
 ],
 "metadata": {
  "kernelspec": {
   "display_name": "Python 3",
   "language": "python",
   "name": "python3"
  },
  "language_info": {
   "codemirror_mode": {
    "name": "ipython",
    "version": 3
   },
   "file_extension": ".py",
   "mimetype": "text/x-python",
   "name": "python",
   "nbconvert_exporter": "python",
   "pygments_lexer": "ipython3",
   "version": "3.6.5"
  }
 },
 "nbformat": 4,
 "nbformat_minor": 2
}
